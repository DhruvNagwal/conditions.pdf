{
  "nbformat": 4,
  "nbformat_minor": 0,
  "metadata": {
    "colab": {
      "provenance": [],
      "authorship_tag": "ABX9TyO15N7WGfFFhcLdbp+K3TYG",
      "include_colab_link": true
    },
    "kernelspec": {
      "name": "python3",
      "display_name": "Python 3"
    },
    "language_info": {
      "name": "python"
    }
  },
  "cells": [
    {
      "cell_type": "markdown",
      "metadata": {
        "id": "view-in-github",
        "colab_type": "text"
      },
      "source": [
        "<a href=\"https://colab.research.google.com/github/DhruvNagwal/conditions.pdf/blob/main/Untitled0.ipynb\" target=\"_parent\"><img src=\"https://colab.research.google.com/assets/colab-badge.svg\" alt=\"Open In Colab\"/></a>"
      ]
    },
    {
      "cell_type": "code",
      "execution_count": 1,
      "metadata": {
        "colab": {
          "base_uri": "https://localhost:8080/",
          "height": 108
        },
        "id": "ToUbXOj65xf3",
        "outputId": "480b0c66-f074-4a01-d706-e49e179783e5"
      },
      "outputs": [
        {
          "output_type": "error",
          "ename": "SyntaxError",
          "evalue": "invalid syntax (<ipython-input-1-5870965d4744>, line 1)",
          "traceback": [
            "\u001b[0;36m  File \u001b[0;32m\"<ipython-input-1-5870965d4744>\"\u001b[0;36m, line \u001b[0;32m1\u001b[0m\n\u001b[0;31m    Open In Colab\u001b[0m\n\u001b[0m         ^\u001b[0m\n\u001b[0;31mSyntaxError\u001b[0m\u001b[0;31m:\u001b[0m invalid syntax\n"
          ]
        }
      ],
      "source": [
        "\n",
        "\n",
        "Open In Colab\n",
        "\n",
        "#assign statement\n",
        "x=3\n",
        "print(1+1)\n",
        "print(len(\"hello team\"))\n",
        "a='mighgty'\n",
        "#import statement\n",
        "import pandas as pd\n",
        "print(y)\n",
        "my_list=[1]\n",
        "my_tuple=(1,)\n",
        "my_list,my_tuple\n",
        "a=(1+2+3+4+5+6)\n",
        "atype(a)\n",
        "a=1\n",
        "b=2\n",
        "completions_sorting_key\n",
        "c=3\n",
        "a=1;b=2;c=3\n",
        "a=1\n",
        "b=2\n",
        "c=3\n",
        "a,b,c=[1,'a', true](45,67), {'name':'vikash','Age':27 }\n",
        "#this is a comment\n",
        "#print('hello')\n",
        "print('hello')\n",
        "#this is a lon comment\n",
        "#and it extends\n",
        "#to multiple line\n",
        "\"\"\"this is also a\n",
        "perfect example of\n",
        "ahjcdj\n",
        "sdjbkd\n",
        "multi-line comments\"\"\"\n",
        "a=2\n",
        "b=1\n",
        "                           #if (b>a):\n",
        "                           #a=5\n",
        "                           #b=5 a,b=1,2\n",
        "if a\n",
        "\n",
        "  File \"<ipython-input-66-48dcae1fcc58>\", line 41\n",
        "    perform action1\n",
        "            ^\n",
        "SyntaxError: invalid syntax\n",
        "\n"
      ]
    }
  ]
}